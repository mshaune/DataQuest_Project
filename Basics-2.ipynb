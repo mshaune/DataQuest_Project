{
 "cells": [
  {
   "cell_type": "markdown",
   "metadata": {},
   "source": [
    "# US Gun Deaths Guided Project \n",
    "## Introducing US Gun Deaths Data"
   ]
  },
  {
   "cell_type": "code",
   "execution_count": 1,
   "metadata": {
    "collapsed": false
   },
   "outputs": [],
   "source": [
    "import csv, datetime\n",
    "sex_counts = {\"M\": 0, \"F\": 0} \n",
    "race_counts = {\"White\": 0, \"Asian/Pacific Islander\": 0, \"Native American/Native Alaskan\": 0, \n",
    "               \"Black\": 0, \"Hispanic\": 0} \n",
    "f = open(\"guns.csv\", \"r\")\n",
    "headers = f.readline()\n",
    "csvreader = csv.reader(f)\n",
    "guns_data = list(csvreader)"
   ]
  },
  {
   "cell_type": "code",
   "execution_count": 2,
   "metadata": {
    "collapsed": false
   },
   "outputs": [
    {
     "name": "stdout",
     "output_type": "stream",
     "text": [
      "['1', '2012', '01', 'Suicide', '0', 'M', '34', 'Asian/Pacific Islander', '100', 'Home', '4']\n",
      "['2', '2012', '01', 'Suicide', '0', 'F', '21', 'White', '100', 'Street', '3']\n",
      "['3', '2012', '01', 'Suicide', '0', 'M', '60', 'White', '100', 'Other specified', '4']\n",
      "['4', '2012', '02', 'Suicide', '0', 'M', '64', 'White', '100', 'Home', '4']\n",
      "['5', '2012', '02', 'Suicide', '0', 'M', '31', 'White', '100', 'Other specified', '2']\n"
     ]
    }
   ],
   "source": [
    "for row in guns_data[0:5]:\n",
    "    print(row)"
   ]
  },
  {
   "cell_type": "code",
   "execution_count": 3,
   "metadata": {
    "collapsed": false
   },
   "outputs": [
    {
     "name": "stdout",
     "output_type": "stream",
     "text": [
      "\"\",\"year\",\"month\",\"intent\",\"police\",\"sex\",\"age\",\"race\",\"hispanic\",\"place\",\"education\"\n",
      "\n"
     ]
    }
   ],
   "source": [
    "print(headers)\n"
   ]
  },
  {
   "cell_type": "code",
   "execution_count": 4,
   "metadata": {
    "collapsed": false,
    "scrolled": false
   },
   "outputs": [
    {
     "name": "stdout",
     "output_type": "stream",
     "text": [
      "[['1', '2012', '01', 'Suicide', '0', 'M', '34', 'Asian/Pacific Islander', '100', 'Home', '4'], ['2', '2012', '01', 'Suicide', '0', 'F', '21', 'White', '100', 'Street', '3'], ['3', '2012', '01', 'Suicide', '0', 'M', '60', 'White', '100', 'Other specified', '4'], ['4', '2012', '02', 'Suicide', '0', 'M', '64', 'White', '100', 'Home', '4'], ['5', '2012', '02', 'Suicide', '0', 'M', '31', 'White', '100', 'Other specified', '2']]\n"
     ]
    }
   ],
   "source": [
    "print(guns_data[0:5])"
   ]
  },
  {
   "cell_type": "code",
   "execution_count": 5,
   "metadata": {
    "collapsed": false,
    "scrolled": true
   },
   "outputs": [
    {
     "name": "stdout",
     "output_type": "stream",
     "text": [
      "{'2012': 33563, '2014': 33599, '2013': 33636}\n"
     ]
    }
   ],
   "source": [
    "year_counts = {}\n",
    "for years in guns_data:\n",
    "    for year in years:\n",
    "        year = years[1]\n",
    "    if year in year_counts:\n",
    "        year_counts[year] = year_counts[year] + 1 \n",
    "    else: \n",
    "        year_counts[year] = 1\n",
    "    \n",
    "print(year_counts)                    "
   ]
  },
  {
   "cell_type": "code",
   "execution_count": 6,
   "metadata": {
    "collapsed": false
   },
   "outputs": [
    {
     "name": "stdout",
     "output_type": "stream",
     "text": [
      "100798\n"
     ]
    }
   ],
   "source": [
    "date_counts = 0\n",
    "for row in guns_data:\n",
    "    dates = datetime.date(year=int(row[1]), month=int(row[2]), day=1)\n",
    "#    print(dates)\n",
    "    date_counts += 1\n",
    "    \n",
    "print(date_counts)    "
   ]
  },
  {
   "cell_type": "code",
   "execution_count": 7,
   "metadata": {
    "collapsed": false
   },
   "outputs": [
    {
     "name": "stdout",
     "output_type": "stream",
     "text": [
      "{'M': 86349, 'F': 14449}\n"
     ]
    }
   ],
   "source": [
    "for row in guns_data:\n",
    "    count = 1\n",
    "    if row[5] == \"M\":\n",
    "        sex_counts[\"M\"] += count\n",
    "    elif row[5] == \"F\":\n",
    "        sex_counts[\"F\"] += count\n",
    "    count += 1\n",
    "\n",
    "print(sex_counts)"
   ]
  },
  {
   "cell_type": "code",
   "execution_count": 8,
   "metadata": {
    "collapsed": false
   },
   "outputs": [
    {
     "name": "stdout",
     "output_type": "stream",
     "text": [
      "{'Hispanic': 9022, 'Black': 23296, 'White': 66237, 'Asian/Pacific Islander': 1326, 'Native American/Native Alaskan': 917}\n"
     ]
    }
   ],
   "source": [
    "for row in guns_data:\n",
    "    count = 1\n",
    "    if row[7] == \"Asian/Pacific Islander\":\n",
    "        race_counts[\"Asian/Pacific Islander\"] += count\n",
    "    elif row[7] == \"Black\":\n",
    "        race_counts[\"Black\"] += count\n",
    "    elif row[7] == \"Hispanic\":\n",
    "        race_counts[\"Hispanic\"] += count\n",
    "    elif row[7] == \"Native American/Native Alaskan\":\n",
    "        race_counts[\"Native American/Native Alaskan\"] += count\n",
    "    elif row[7] == \"White\":\n",
    "        race_counts[\"White\"] += count\n",
    "    count += 1\n",
    "\n",
    "print(race_counts)       "
   ]
  },
  {
   "cell_type": "markdown",
   "metadata": {
    "collapsed": true
   },
   "source": [
    "# Findings so far...\n",
    "\n",
    " -  From 2012 to 2014 the gun deaths in the US do not differ any more than 200 deaths\n",
    " -  There have been over 100,000 deaths by gun within the timeframe of 2012 and 2014 in the US\n",
    " -  Collectively, more men have been killed by a gun in the US than women\n",
    " - Hispanic and Black gun deaths are more likely to occur than the gun deaths of any other race included in this study\n",
    "     "
   ]
  },
  {
   "cell_type": "code",
   "execution_count": 9,
   "metadata": {
    "collapsed": false
   },
   "outputs": [],
   "source": [
    "mapping = {}\n",
    "mapping = race_counts.copy()\n",
    "race_per_hundredk = {}\n",
    "intents = [row[3] for row in guns_data]\n",
    "races = [row[7] for row in guns_data]\n",
    "homicide_race_counts = {}\n",
    "n = open(\"census.csv\", \"r\")\n",
    "header_row = n.readline()\n",
    "census = list(csv.reader(n))"
   ]
  },
  {
   "cell_type": "code",
   "execution_count": 10,
   "metadata": {
    "collapsed": false,
    "scrolled": false
   },
   "outputs": [
    {
     "name": "stdout",
     "output_type": "stream",
     "text": [
      "{'Black': 40250635, 'White': 197318956, 'Asian/Pacific Islander': 15834141, 'Hispanic': 44618105, 'Native American/Native Alaskan': 3739506}\n"
     ]
    }
   ],
   "source": [
    "for each in mapping:    \n",
    "    if each == \"Asian/Pacific Islander\":\n",
    "        mapping[\"Asian/Pacific Islander\"] = int(census[0][14]) + int(census[0][15])\n",
    "    elif each == \"Black\":\n",
    "        mapping[\"Black\"] = int(census[0][12])\n",
    "    elif each == \"Hispanic\":\n",
    "        mapping[\"Hispanic\"] = int(census[0][11])\n",
    "    elif each == \"Native American/Native Alaskan\":\n",
    "        mapping[\"Native American/Native Alaskan\"] = int(census[0][13])\n",
    "    elif each == \"White\":\n",
    "        mapping[\"White\"] = int(census[0][10])\n",
    "        \n",
    "\n",
    "print(mapping)\n"
   ]
  },
  {
   "cell_type": "code",
   "execution_count": 11,
   "metadata": {
    "collapsed": false
   },
   "outputs": [
    {
     "name": "stdout",
     "output_type": "stream",
     "text": [
      "{'Black': 57.88, 'White': 33.57, 'Asian/Pacific Islander': 8.37, 'Hispanic': 20.22, 'Native American/Native Alaskan': 24.52}\n"
     ]
    }
   ],
   "source": [
    "for k, v in race_counts.items():\n",
    "        race_per_hundredk[k] = (v/mapping[k]) * 100000\n",
    "        race_per_hundredk[k] = round(race_per_hundredk[k], 2)\n",
    "\n",
    "print(race_per_hundredk)\n"
   ]
  },
  {
   "cell_type": "code",
   "execution_count": 12,
   "metadata": {
    "collapsed": false,
    "scrolled": true
   },
   "outputs": [
    {
     "name": "stdout",
     "output_type": "stream",
     "text": [
      "{'Black': 48.471284987180944, 'White': 4.6356417981453335, 'Asian/Pacific Islander': 3.530346230970155, 'Hispanic': 12.627161104219914, 'Native American/Native Alaskan': 8.717729026240365}\n"
     ]
    }
   ],
   "source": [
    "for i, race in enumerate(races):\n",
    "    if race not in homicide_race_counts:\n",
    "        homicide_race_counts[race] = 0\n",
    "    if intents[i] == \"Homicide\":\n",
    "        homicide_race_counts[race] += 1\n",
    "\n",
    "hrates_per_hundredk = {}        \n",
    "for k, v in homicide_race_counts.items():\n",
    "        hrates_per_hundredk[k] = (v/mapping[k]) * 100000\n",
    "\n",
    "print(hrates_per_hundredk)"
   ]
  },
  {
   "cell_type": "markdown",
   "metadata": {
    "collapsed": true
   },
   "source": [
    "# Findings...\n",
    " - Out of 100,000 people, Black and Hispanic persons have some of the highest chances of dying of a gun related death\n",
    " - White people have the second to highest chance of dying by gun \n",
    " - When looking at homicide rates per 100,000, black people have the highest likeliness, approximately 53% more likely than white people, of dying by gun \n",
    "## Next steps..\n",
    " - Find correlation between gender, race and intent\n",
    " - Explore relationship of gun deaths as it relates to gender and race\n",
    " - Look at death numbers per 100,000 by suicide"
   ]
  }
 ],
 "metadata": {
  "kernelspec": {
   "display_name": "Python 3",
   "language": "python",
   "name": "python3"
  },
  "language_info": {
   "codemirror_mode": {
    "name": "ipython",
    "version": 3
   },
   "file_extension": ".py",
   "mimetype": "text/x-python",
   "name": "python",
   "nbconvert_exporter": "python",
   "pygments_lexer": "ipython3",
   "version": "3.4.3"
  }
 },
 "nbformat": 4,
 "nbformat_minor": 0
}
